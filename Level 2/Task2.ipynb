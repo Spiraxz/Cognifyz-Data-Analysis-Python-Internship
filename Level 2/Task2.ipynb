{
 "cells": [
  {
   "cell_type": "markdown",
   "metadata": {},
   "source": [
    "Task 2: Cuisine Combination\n",
    "\n",
    "-Identify the most common combinations of cuisines in the dataset.\n",
    "\n",
    "-Determine if certain cuisine combinations tend to have higher ratings.\n"
   ]
  },
  {
   "cell_type": "code",
   "execution_count": 2,
   "metadata": {},
   "outputs": [],
   "source": [
    "from itertools import combinations\n",
    "from collections import Counter\n",
    "\n",
    "import pandas as pd\n",
    "data = pd.read_csv(\"Dataset .csv\")\n"
   ]
  },
  {
   "cell_type": "code",
   "execution_count": 3,
   "metadata": {},
   "outputs": [],
   "source": [
    "cuisine_data = data.dropna(subset=['Cuisines'])\n",
    "\n",
    "# Converting series of cusines into set data type\n",
    "cuisine_combinations = cuisine_data['Cuisines'].apply(lambda x: tuple(sorted(x.split(', '))))\n",
    "\n",
    "# Acts like value count alternative but better especially when computing common combination whichs is a subset of a bigger combinations\n",
    "combo_counter = Counter()\n",
    "\n",
    "# Generate all possible pairs for combo_counter\n",
    "for cuisines in cuisine_combinations:\n",
    "    for combo_size in range(2, len(cuisines) + 1):  \n",
    "        combo_counter.update(combinations(cuisines, combo_size))\n"
   ]
  },
  {
   "cell_type": "markdown",
   "metadata": {},
   "source": [
    "-Identify the most common combinations of cuisines in the dataset."
   ]
  },
  {
   "cell_type": "code",
   "execution_count": 4,
   "metadata": {},
   "outputs": [
    {
     "data": {
      "text/plain": [
       "[(('Chinese', 'North Indian'), 1784),\n",
       " (('Mughlai', 'North Indian'), 832),\n",
       " (('Fast Food', 'North Indian'), 485),\n",
       " (('Continental', 'North Indian'), 468),\n",
       " (('Chinese', 'Fast Food'), 466),\n",
       " (('North Indian', 'South Indian'), 405),\n",
       " (('Chinese', 'Mughlai'), 379),\n",
       " (('Chinese', 'Mughlai', 'North Indian'), 365),\n",
       " (('Chinese', 'South Indian'), 346),\n",
       " (('Chinese', 'Continental'), 303)]"
      ]
     },
     "execution_count": 4,
     "metadata": {},
     "output_type": "execute_result"
    }
   ],
   "source": [
    "common_combinations = combo_counter.most_common(10)\n",
    "common_combinations\n"
   ]
  },
  {
   "cell_type": "code",
   "execution_count": 5,
   "metadata": {},
   "outputs": [
    {
     "data": {
      "text/plain": [
       "{('Burger', 'Tex-Mex'): np.float64(4.55),\n",
       " ('American', 'Burger', 'Tex-Mex'): np.float64(4.55),\n",
       " ('Burger', 'Mexican', 'Tex-Mex'): np.float64(4.55),\n",
       " ('American', 'Burger', 'Mexican', 'Tex-Mex'): np.float64(4.55),\n",
       " ('Cafe',\n",
       "  'Continental',\n",
       "  'European',\n",
       "  'Italian'): np.float64(4.4799999999999995),\n",
       " ('Hawaiian', 'Seafood'): np.float64(4.475),\n",
       " ('Sandwich', 'Seafood'): np.float64(4.433333333333334),\n",
       " ('Curry', 'Indian'): np.float64(4.3999999999999995),\n",
       " ('Burger', 'Mexican'): np.float64(4.333333333333333),\n",
       " ('American', 'Burger', 'Mexican'): np.float64(4.333333333333333),\n",
       " ('Cafe', 'Continental', 'European'): np.float64(4.333333333333333),\n",
       " ('Kebab', 'Turkish Pizza'): np.float64(4.328571428571428),\n",
       " ('Caribbean', 'Seafood'): np.float64(4.324999999999999),\n",
       " ('American', 'Cafe', 'Continental', 'Italian'): np.float64(4.3),\n",
       " ('European', 'Mediterranean', 'North Indian'): np.float64(4.286666666666666),\n",
       " ('European', 'Seafood'): np.float64(4.279999999999999),\n",
       " ('Continental', 'European', 'Italian'): np.float64(4.2666666666666675),\n",
       " ('Mexican', 'Southwestern'): np.float64(4.239999999999999),\n",
       " ('Cafe', 'European', 'Italian'): np.float64(4.2272727272727275),\n",
       " ('American', 'Chinese', 'Continental', 'Italian'): np.float64(4.225),\n",
       " ('American', 'Southern'): np.float64(4.222222222222221),\n",
       " ('Spanish', 'Tapas'): np.float64(4.220000000000001),\n",
       " ('Grill', 'Seafood'): np.float64(4.220000000000001),\n",
       " ('Burger', 'Cafe'): np.float64(4.2142857142857135),\n",
       " ('Breakfast', 'Sandwich'): np.float64(4.2),\n",
       " ('BBQ', 'Southern'): np.float64(4.2),\n",
       " ('American', 'Cafe', 'Chinese'): np.float64(4.2),\n",
       " ('American', 'Cafe', 'Chinese', 'Italian'): np.float64(4.2),\n",
       " ('Goan', 'North Indian', 'Seafood'): np.float64(4.199999999999999),\n",
       " ('Desserts', 'Italian', 'Pizza'): np.float64(4.199999999999999),\n",
       " ('European', 'Mediterranean'): np.float64(4.184615384615385),\n",
       " ('American', 'Sandwich'): np.float64(4.181818181818182),\n",
       " ('Goan', 'North Indian'): np.float64(4.18),\n",
       " ('European', 'Italian', 'Mediterranean'): np.float64(4.18),\n",
       " ('American', 'Italian', 'Pizza'): np.float64(4.166666666666667),\n",
       " ('Mediterranean', 'Seafood'): np.float64(4.16),\n",
       " ('Cafe', 'European'): np.float64(4.1521739130434785),\n",
       " ('Asian', 'Filipino'): np.float64(4.15),\n",
       " ('American', 'Asian', 'Italian'): np.float64(4.15),\n",
       " ('Italian', 'Sandwich'): np.float64(4.1499999999999995),\n",
       " ('Italian', 'Pizza', 'Sandwich'): np.float64(4.1499999999999995),\n",
       " ('Bar Food', 'Burger'): np.float64(4.1499999999999995),\n",
       " ('American', 'Mediterranean', 'North Indian'): np.float64(4.1499999999999995),\n",
       " ('American', 'Cafe', 'Continental'): np.float64(4.14),\n",
       " ('American', 'Desserts'): np.float64(4.136363636363637),\n",
       " ('Cafe', 'Mediterranean'): np.float64(4.133333333333333),\n",
       " ('Continental', 'Goan', 'North Indian'): np.float64(4.133333333333333),\n",
       " ('American',\n",
       "  'Continental',\n",
       "  'Italian',\n",
       "  'Mexican'): np.float64(4.133333333333333),\n",
       " ('American', 'Continental', 'Mexican'): np.float64(4.128571428571428),\n",
       " ('Cafe', 'Italian', 'Mediterranean'): np.float64(4.125),\n",
       " ('American', 'Finger Food'): np.float64(4.125),\n",
       " ('European', 'North Indian', 'Thai'): np.float64(4.12),\n",
       " ('Goan', 'Seafood'): np.float64(4.118181818181819),\n",
       " ('American', 'Asian'): np.float64(4.1125),\n",
       " ('Chinese', 'Goan'): np.float64(4.1),\n",
       " ('Desserts', 'European'): np.float64(4.099999999999999),\n",
       " ('Asian', 'Seafood'): np.float64(4.0875),\n",
       " ('American', 'Pizza'): np.float64(4.083333333333333),\n",
       " ('European', 'Thai'): np.float64(4.083333333333333),\n",
       " ('Cafe', 'Continental', 'Italian', 'Mexican'): np.float64(4.081818181818182),\n",
       " ('Mexican', 'North Indian', 'Thai'): np.float64(4.075),\n",
       " ('Japanese', 'Seafood', 'Sushi'): np.float64(4.075),\n",
       " ('Chinese', 'Goan', 'North Indian'): np.float64(4.075),\n",
       " ('Continental', 'Italian', 'Juices'): np.float64(4.075),\n",
       " ('Italian', 'Juices', 'Salad'): np.float64(4.075),\n",
       " ('Continental', 'Italian', 'Juices', 'Salad'): np.float64(4.075),\n",
       " ('Seafood', 'Vegetarian'): np.float64(4.074999999999999),\n",
       " ('Continental',\n",
       "  'Goan',\n",
       "  'North Indian',\n",
       "  'Seafood'): np.float64(4.074999999999999),\n",
       " ('Chinese', 'Mexican', 'Thai'): np.float64(4.071428571428571),\n",
       " ('Chinese', 'Mexican', 'North Indian', 'Thai'): np.float64(4.071428571428571),\n",
       " ('Seafood', 'Sushi'): np.float64(4.069999999999999),\n",
       " ('Arabian', 'Middle Eastern'): np.float64(4.0625),\n",
       " ('Burger', 'Grill'): np.float64(4.0600000000000005),\n",
       " ('American', 'Asian', 'Continental'): np.float64(4.0600000000000005),\n",
       " ('American',\n",
       "  'Asian',\n",
       "  'Continental',\n",
       "  'North Indian'): np.float64(4.0600000000000005),\n",
       " ('Bakery', 'Cafe', 'Continental'): np.float64(4.06),\n",
       " ('American', 'Mediterranean'): np.float64(4.054545454545455),\n",
       " ('Italian', 'Spanish'): np.float64(4.05),\n",
       " ('Continental', 'Goan', 'Seafood'): np.float64(4.05),\n",
       " ('Mediterranean', 'Pizza'): np.float64(4.05),\n",
       " ('Italian', 'Mediterranean', 'Mexican'): np.float64(4.05),\n",
       " ('Continental', 'Italian', 'Pizza'): np.float64(4.05),\n",
       " ('Bar Food', 'Pizza'): np.float64(4.042857142857144),\n",
       " ('Desserts', 'Sandwich'): np.float64(4.042857142857143),\n",
       " ('Arabian', 'Mediterranean'): np.float64(4.042857142857143),\n",
       " ('Mediterranean', 'North Indian'): np.float64(4.040816326530612),\n",
       " ('European', 'Mexican'): np.float64(4.040000000000001),\n",
       " ('American', 'Asian', 'North Indian'): np.float64(4.04),\n",
       " ('Asian', 'European'): np.float64(4.033333333333333),\n",
       " ('Asian', 'Mediterranean', 'North Indian'): np.float64(4.026666666666666),\n",
       " ('American', 'Burger', 'Pizza'): np.float64(4.025),\n",
       " ('Asian', 'Continental', 'Mediterranean', 'North Indian'): np.float64(4.025),\n",
       " ('Cafe', 'Seafood'): np.float64(4.025),\n",
       " ('Asian', 'Continental', 'European'): np.float64(4.025),\n",
       " ('Asian', 'Continental', 'European', 'North Indian'): np.float64(4.025),\n",
       " ('Continental', 'European', 'Finger Food'): np.float64(4.025),\n",
       " ('Continental', 'European', 'Finger Food', 'North Indian'): np.float64(4.025),\n",
       " ('American', 'Sushi'): np.float64(4.0249999999999995),\n",
       " ('American', 'Cafe', 'Italian'): np.float64(4.021428571428571),\n",
       " ('Burmese', 'Japanese'): np.float64(4.0200000000000005),\n",
       " ('Burmese', 'Chinese', 'Japanese'): np.float64(4.0200000000000005),\n",
       " ('Burmese', 'Japanese', 'Thai'): np.float64(4.0200000000000005),\n",
       " ('Burmese', 'Chinese', 'Japanese', 'Thai'): np.float64(4.0200000000000005),\n",
       " ('American', 'Cafe', 'North Indian'): np.float64(4.02),\n",
       " ('American', 'Cafe', 'Italian', 'North Indian'): np.float64(4.02),\n",
       " ('American', 'Seafood'): np.float64(4.017241379310344),\n",
       " ('Asian', 'Vegetarian'): np.float64(4.016666666666667),\n",
       " ('Pizza', 'Sandwich'): np.float64(4.013333333333334),\n",
       " ('Cafe', 'Continental', 'Desserts'): np.float64(4.012499999999999),\n",
       " ('Bakery', 'Cafe', 'Desserts'): np.float64(4.011764705882353),\n",
       " ('Cafe', 'Italian', 'Pizza'): np.float64(4.01),\n",
       " ('American', 'Mexican'): np.float64(4.0058823529411764),\n",
       " ('Japanese', 'Sushi'): np.float64(4.002272727272728)}"
      ]
     },
     "execution_count": 5,
     "metadata": {},
     "output_type": "execute_result"
    }
   ],
   "source": [
    "rating_threshold = 4.0\n",
    "\n",
    "high_rating_combinations = {}\n",
    "\n",
    "for combo, count in combo_counter.most_common(1000):  \n",
    "    \n",
    "    matching_rows = data['Cuisines'].dropna().apply(lambda x: all(c in x for c in combo))\n",
    "\n",
    "    # Calculate the average rating for those rows\n",
    "    avg_rating = data.loc[matching_rows[matching_rows].index, 'Aggregate rating'].mean()\n",
    "    \n",
    "    # Include only combinations with average ratings above the threshold\n",
    "    if avg_rating > rating_threshold:\n",
    "        high_rating_combinations[combo] = avg_rating\n",
    "\n",
    "high_rating_combinations = dict(sorted(high_rating_combinations.items(), key=lambda x: x[1], reverse=True))\n",
    "\n",
    "high_rating_combinations\n",
    "\n"
   ]
  },
  {
   "cell_type": "markdown",
   "metadata": {},
   "source": [
    "-Determine if certain cuisine combinations tend to have higher ratings.\n",
    "\n",
    "Ans> Yes it does according to data above which show some specific combinations that will tend to give higher rating.\n",
    "\n",
    "But , they aren't the most common combinations"
   ]
  }
 ],
 "metadata": {
  "kernelspec": {
   "display_name": "Python 3",
   "language": "python",
   "name": "python3"
  },
  "language_info": {
   "codemirror_mode": {
    "name": "ipython",
    "version": 3
   },
   "file_extension": ".py",
   "mimetype": "text/x-python",
   "name": "python",
   "nbconvert_exporter": "python",
   "pygments_lexer": "ipython3",
   "version": "3.10.11"
  }
 },
 "nbformat": 4,
 "nbformat_minor": 2
}
