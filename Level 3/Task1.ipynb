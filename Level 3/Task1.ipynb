{
 "cells": [
  {
   "cell_type": "markdown",
   "metadata": {},
   "source": [
    "Task 1: Restaurant Reviews\n",
    "\n",
    "-Analyze the text reviews to identify the most common positive and negative keywords.\n",
    "\n",
    "-Calculate the average length of reviews and explore if there is a relationship between review length and rating."
   ]
  },
  {
   "cell_type": "code",
   "execution_count": 1,
   "metadata": {},
   "outputs": [
    {
     "data": {
      "text/plain": [
       "Index(['Restaurant ID', 'Restaurant Name', 'Country Code', 'City', 'Address',\n",
       "       'Locality', 'Locality Verbose', 'Longitude', 'Latitude', 'Cuisines',\n",
       "       'Average Cost for two', 'Currency', 'Has Table booking',\n",
       "       'Has Online delivery', 'Is delivering now', 'Switch to order menu',\n",
       "       'Price range', 'Aggregate rating', 'Rating color', 'Rating text',\n",
       "       'Votes'],\n",
       "      dtype='object')"
      ]
     },
     "execution_count": 1,
     "metadata": {},
     "output_type": "execute_result"
    }
   ],
   "source": [
    "import pandas as pd\n",
    "\n",
    "data = pd.read_csv('Dataset .csv')\n",
    "data.columns\n"
   ]
  },
  {
   "cell_type": "code",
   "execution_count": 2,
   "metadata": {},
   "outputs": [
    {
     "data": {
      "text/plain": [
       "array(['Excellent', 'Very Good', 'Good', 'Average', 'Not rated', 'Poor'],\n",
       "      dtype=object)"
      ]
     },
     "execution_count": 2,
     "metadata": {},
     "output_type": "execute_result"
    }
   ],
   "source": [
    "data['Rating text'].unique()"
   ]
  },
  {
   "cell_type": "code",
   "execution_count": 3,
   "metadata": {},
   "outputs": [],
   "source": [
    "rating_text_counts =data['Rating text'].value_counts()\n",
    "\n",
    "positive_texts = [ \"Excellent\",  'Very Good', 'Good']\n",
    "negative_texts = ['Average', 'Poor']\n",
    "\n",
    "positive_counts = rating_text_counts[rating_text_counts.index.isin(positive_texts)]\n",
    "negative_counts = rating_text_counts[rating_text_counts.index.isin(negative_texts)]\n"
   ]
  },
  {
   "cell_type": "code",
   "execution_count": 4,
   "metadata": {},
   "outputs": [
    {
     "data": {
      "text/plain": [
       "([Rating text\n",
       "  Good         2100\n",
       "  Very Good    1079\n",
       "  Excellent     301\n",
       "  Name: count, dtype: int64],\n",
       " [Rating text\n",
       "  Average    3737\n",
       "  Poor        186\n",
       "  Name: count, dtype: int64])"
      ]
     },
     "execution_count": 4,
     "metadata": {},
     "output_type": "execute_result"
    }
   ],
   "source": [
    "[positive_counts] ,[negative_counts]\n"
   ]
  },
  {
   "cell_type": "markdown",
   "metadata": {},
   "source": [
    "Analyze the text reviews to identify the most common positive and negative keywords"
   ]
  },
  {
   "cell_type": "code",
   "execution_count": 42,
   "metadata": {},
   "outputs": [
    {
     "name": "stdout",
     "output_type": "stream",
     "text": [
      "Most common Positive word in reviews: ['Good']\n",
      "Most common Negative word in reviews: ['Average']\n"
     ]
    }
   ],
   "source": [
    "print(\"Most common Positive word in reviews:\",positive_counts.head(1).index.values)\n",
    "print(\"Most common Negative word in reviews:\",negative_counts.head(1).index.values)"
   ]
  },
  {
   "cell_type": "markdown",
   "metadata": {},
   "source": [
    "Calculate the average length of reviews and explore if there is a relationship between review length and rating"
   ]
  },
  {
   "cell_type": "code",
   "execution_count": 43,
   "metadata": {},
   "outputs": [
    {
     "data": {
      "text/plain": [
       "7"
      ]
     },
     "execution_count": 43,
     "metadata": {},
     "output_type": "execute_result"
    }
   ],
   "source": [
    "data['Review Length'] = data['Rating text'].apply(lambda x: len(str(x)))\n",
    "average_review_length = round(data['Review Length'].mean())\n",
    "average_review_length"
   ]
  },
  {
   "cell_type": "code",
   "execution_count": 44,
   "metadata": {},
   "outputs": [
    {
     "data": {
      "text/html": [
       "<div>\n",
       "<style scoped>\n",
       "    .dataframe tbody tr th:only-of-type {\n",
       "        vertical-align: middle;\n",
       "    }\n",
       "\n",
       "    .dataframe tbody tr th {\n",
       "        vertical-align: top;\n",
       "    }\n",
       "\n",
       "    .dataframe thead th {\n",
       "        text-align: right;\n",
       "    }\n",
       "</style>\n",
       "<table border=\"1\" class=\"dataframe\">\n",
       "  <thead>\n",
       "    <tr style=\"text-align: right;\">\n",
       "      <th></th>\n",
       "      <th>Review Length</th>\n",
       "      <th>Aggregate rating</th>\n",
       "    </tr>\n",
       "  </thead>\n",
       "  <tbody>\n",
       "    <tr>\n",
       "      <th>0</th>\n",
       "      <td>9</td>\n",
       "      <td>4.8</td>\n",
       "    </tr>\n",
       "    <tr>\n",
       "      <th>1</th>\n",
       "      <td>9</td>\n",
       "      <td>4.5</td>\n",
       "    </tr>\n",
       "    <tr>\n",
       "      <th>2</th>\n",
       "      <td>9</td>\n",
       "      <td>4.4</td>\n",
       "    </tr>\n",
       "    <tr>\n",
       "      <th>3</th>\n",
       "      <td>9</td>\n",
       "      <td>4.9</td>\n",
       "    </tr>\n",
       "    <tr>\n",
       "      <th>4</th>\n",
       "      <td>9</td>\n",
       "      <td>4.8</td>\n",
       "    </tr>\n",
       "    <tr>\n",
       "      <th>...</th>\n",
       "      <td>...</td>\n",
       "      <td>...</td>\n",
       "    </tr>\n",
       "    <tr>\n",
       "      <th>7706</th>\n",
       "      <td>4</td>\n",
       "      <td>2.0</td>\n",
       "    </tr>\n",
       "    <tr>\n",
       "      <th>8532</th>\n",
       "      <td>4</td>\n",
       "      <td>2.0</td>\n",
       "    </tr>\n",
       "    <tr>\n",
       "      <th>9104</th>\n",
       "      <td>4</td>\n",
       "      <td>2.0</td>\n",
       "    </tr>\n",
       "    <tr>\n",
       "      <th>9105</th>\n",
       "      <td>4</td>\n",
       "      <td>2.0</td>\n",
       "    </tr>\n",
       "    <tr>\n",
       "      <th>9106</th>\n",
       "      <td>4</td>\n",
       "      <td>2.0</td>\n",
       "    </tr>\n",
       "  </tbody>\n",
       "</table>\n",
       "<p>310 rows × 2 columns</p>\n",
       "</div>"
      ],
      "text/plain": [
       "      Review Length  Aggregate rating\n",
       "0                 9               4.8\n",
       "1                 9               4.5\n",
       "2                 9               4.4\n",
       "3                 9               4.9\n",
       "4                 9               4.8\n",
       "...             ...               ...\n",
       "7706              4               2.0\n",
       "8532              4               2.0\n",
       "9104              4               2.0\n",
       "9105              4               2.0\n",
       "9106              4               2.0\n",
       "\n",
       "[310 rows x 2 columns]"
      ]
     },
     "execution_count": 44,
     "metadata": {},
     "output_type": "execute_result"
    }
   ],
   "source": [
    "data.groupby('Aggregate rating')[['Review Length',\"Aggregate rating\"]].head(10)"
   ]
  },
  {
   "cell_type": "code",
   "execution_count": 59,
   "metadata": {},
   "outputs": [
    {
     "data": {
      "text/html": [
       "<div>\n",
       "<style scoped>\n",
       "    .dataframe tbody tr th:only-of-type {\n",
       "        vertical-align: middle;\n",
       "    }\n",
       "\n",
       "    .dataframe tbody tr th {\n",
       "        vertical-align: top;\n",
       "    }\n",
       "\n",
       "    .dataframe thead th {\n",
       "        text-align: right;\n",
       "    }\n",
       "</style>\n",
       "<table border=\"1\" class=\"dataframe\">\n",
       "  <thead>\n",
       "    <tr style=\"text-align: right;\">\n",
       "      <th></th>\n",
       "      <th>Review Length string</th>\n",
       "      <th>Aggregate rating</th>\n",
       "      <th>Rating text</th>\n",
       "      <th>Rating color</th>\n",
       "    </tr>\n",
       "  </thead>\n",
       "  <tbody>\n",
       "    <tr>\n",
       "      <th>0</th>\n",
       "      <td>9</td>\n",
       "      <td>4.8</td>\n",
       "      <td>Excellent</td>\n",
       "      <td>Dark Green</td>\n",
       "    </tr>\n",
       "    <tr>\n",
       "      <th>1</th>\n",
       "      <td>9</td>\n",
       "      <td>4.5</td>\n",
       "      <td>Excellent</td>\n",
       "      <td>Dark Green</td>\n",
       "    </tr>\n",
       "    <tr>\n",
       "      <th>2</th>\n",
       "      <td>9</td>\n",
       "      <td>4.4</td>\n",
       "      <td>Very Good</td>\n",
       "      <td>Green</td>\n",
       "    </tr>\n",
       "    <tr>\n",
       "      <th>3</th>\n",
       "      <td>9</td>\n",
       "      <td>4.9</td>\n",
       "      <td>Excellent</td>\n",
       "      <td>Dark Green</td>\n",
       "    </tr>\n",
       "    <tr>\n",
       "      <th>6</th>\n",
       "      <td>9</td>\n",
       "      <td>4.0</td>\n",
       "      <td>Very Good</td>\n",
       "      <td>Green</td>\n",
       "    </tr>\n",
       "    <tr>\n",
       "      <th>7</th>\n",
       "      <td>9</td>\n",
       "      <td>4.2</td>\n",
       "      <td>Very Good</td>\n",
       "      <td>Green</td>\n",
       "    </tr>\n",
       "    <tr>\n",
       "      <th>14</th>\n",
       "      <td>9</td>\n",
       "      <td>4.3</td>\n",
       "      <td>Very Good</td>\n",
       "      <td>Green</td>\n",
       "    </tr>\n",
       "    <tr>\n",
       "      <th>15</th>\n",
       "      <td>4</td>\n",
       "      <td>3.6</td>\n",
       "      <td>Good</td>\n",
       "      <td>Yellow</td>\n",
       "    </tr>\n",
       "    <tr>\n",
       "      <th>20</th>\n",
       "      <td>9</td>\n",
       "      <td>4.7</td>\n",
       "      <td>Excellent</td>\n",
       "      <td>Dark Green</td>\n",
       "    </tr>\n",
       "    <tr>\n",
       "      <th>22</th>\n",
       "      <td>7</td>\n",
       "      <td>3.0</td>\n",
       "      <td>Average</td>\n",
       "      <td>Orange</td>\n",
       "    </tr>\n",
       "    <tr>\n",
       "      <th>23</th>\n",
       "      <td>4</td>\n",
       "      <td>3.8</td>\n",
       "      <td>Good</td>\n",
       "      <td>Yellow</td>\n",
       "    </tr>\n",
       "    <tr>\n",
       "      <th>24</th>\n",
       "      <td>4</td>\n",
       "      <td>3.7</td>\n",
       "      <td>Good</td>\n",
       "      <td>Yellow</td>\n",
       "    </tr>\n",
       "    <tr>\n",
       "      <th>26</th>\n",
       "      <td>7</td>\n",
       "      <td>3.2</td>\n",
       "      <td>Average</td>\n",
       "      <td>Orange</td>\n",
       "    </tr>\n",
       "    <tr>\n",
       "      <th>27</th>\n",
       "      <td>7</td>\n",
       "      <td>3.1</td>\n",
       "      <td>Average</td>\n",
       "      <td>Orange</td>\n",
       "    </tr>\n",
       "    <tr>\n",
       "      <th>31</th>\n",
       "      <td>9</td>\n",
       "      <td>4.1</td>\n",
       "      <td>Very Good</td>\n",
       "      <td>Green</td>\n",
       "    </tr>\n",
       "    <tr>\n",
       "      <th>40</th>\n",
       "      <td>7</td>\n",
       "      <td>3.3</td>\n",
       "      <td>Average</td>\n",
       "      <td>Orange</td>\n",
       "    </tr>\n",
       "    <tr>\n",
       "      <th>49</th>\n",
       "      <td>9</td>\n",
       "      <td>4.6</td>\n",
       "      <td>Excellent</td>\n",
       "      <td>Dark Green</td>\n",
       "    </tr>\n",
       "    <tr>\n",
       "      <th>68</th>\n",
       "      <td>4</td>\n",
       "      <td>3.9</td>\n",
       "      <td>Good</td>\n",
       "      <td>Yellow</td>\n",
       "    </tr>\n",
       "    <tr>\n",
       "      <th>70</th>\n",
       "      <td>7</td>\n",
       "      <td>3.4</td>\n",
       "      <td>Average</td>\n",
       "      <td>Orange</td>\n",
       "    </tr>\n",
       "    <tr>\n",
       "      <th>71</th>\n",
       "      <td>4</td>\n",
       "      <td>3.5</td>\n",
       "      <td>Good</td>\n",
       "      <td>Yellow</td>\n",
       "    </tr>\n",
       "    <tr>\n",
       "      <th>312</th>\n",
       "      <td>4</td>\n",
       "      <td>2.2</td>\n",
       "      <td>Poor</td>\n",
       "      <td>Red</td>\n",
       "    </tr>\n",
       "    <tr>\n",
       "      <th>343</th>\n",
       "      <td>7</td>\n",
       "      <td>2.9</td>\n",
       "      <td>Average</td>\n",
       "      <td>Orange</td>\n",
       "    </tr>\n",
       "    <tr>\n",
       "      <th>344</th>\n",
       "      <td>4</td>\n",
       "      <td>2.4</td>\n",
       "      <td>Poor</td>\n",
       "      <td>Red</td>\n",
       "    </tr>\n",
       "    <tr>\n",
       "      <th>371</th>\n",
       "      <td>7</td>\n",
       "      <td>2.6</td>\n",
       "      <td>Average</td>\n",
       "      <td>Orange</td>\n",
       "    </tr>\n",
       "    <tr>\n",
       "      <th>866</th>\n",
       "      <td>7</td>\n",
       "      <td>2.8</td>\n",
       "      <td>Average</td>\n",
       "      <td>Orange</td>\n",
       "    </tr>\n",
       "    <tr>\n",
       "      <th>890</th>\n",
       "      <td>4</td>\n",
       "      <td>2.1</td>\n",
       "      <td>Poor</td>\n",
       "      <td>Red</td>\n",
       "    </tr>\n",
       "    <tr>\n",
       "      <th>894</th>\n",
       "      <td>7</td>\n",
       "      <td>2.7</td>\n",
       "      <td>Average</td>\n",
       "      <td>Orange</td>\n",
       "    </tr>\n",
       "    <tr>\n",
       "      <th>963</th>\n",
       "      <td>7</td>\n",
       "      <td>2.5</td>\n",
       "      <td>Average</td>\n",
       "      <td>Orange</td>\n",
       "    </tr>\n",
       "    <tr>\n",
       "      <th>1138</th>\n",
       "      <td>4</td>\n",
       "      <td>1.8</td>\n",
       "      <td>Poor</td>\n",
       "      <td>Red</td>\n",
       "    </tr>\n",
       "    <tr>\n",
       "      <th>1395</th>\n",
       "      <td>4</td>\n",
       "      <td>2.0</td>\n",
       "      <td>Poor</td>\n",
       "      <td>Red</td>\n",
       "    </tr>\n",
       "    <tr>\n",
       "      <th>1549</th>\n",
       "      <td>4</td>\n",
       "      <td>2.3</td>\n",
       "      <td>Poor</td>\n",
       "      <td>Red</td>\n",
       "    </tr>\n",
       "    <tr>\n",
       "      <th>4224</th>\n",
       "      <td>4</td>\n",
       "      <td>1.9</td>\n",
       "      <td>Poor</td>\n",
       "      <td>Red</td>\n",
       "    </tr>\n",
       "  </tbody>\n",
       "</table>\n",
       "</div>"
      ],
      "text/plain": [
       "      Review Length string  Aggregate rating Rating text Rating color\n",
       "0                        9               4.8   Excellent   Dark Green\n",
       "1                        9               4.5   Excellent   Dark Green\n",
       "2                        9               4.4   Very Good        Green\n",
       "3                        9               4.9   Excellent   Dark Green\n",
       "6                        9               4.0   Very Good        Green\n",
       "7                        9               4.2   Very Good        Green\n",
       "14                       9               4.3   Very Good        Green\n",
       "15                       4               3.6        Good       Yellow\n",
       "20                       9               4.7   Excellent   Dark Green\n",
       "22                       7               3.0     Average       Orange\n",
       "23                       4               3.8        Good       Yellow\n",
       "24                       4               3.7        Good       Yellow\n",
       "26                       7               3.2     Average       Orange\n",
       "27                       7               3.1     Average       Orange\n",
       "31                       9               4.1   Very Good        Green\n",
       "40                       7               3.3     Average       Orange\n",
       "49                       9               4.6   Excellent   Dark Green\n",
       "68                       4               3.9        Good       Yellow\n",
       "70                       7               3.4     Average       Orange\n",
       "71                       4               3.5        Good       Yellow\n",
       "312                      4               2.2        Poor          Red\n",
       "343                      7               2.9     Average       Orange\n",
       "344                      4               2.4        Poor          Red\n",
       "371                      7               2.6     Average       Orange\n",
       "866                      7               2.8     Average       Orange\n",
       "890                      4               2.1        Poor          Red\n",
       "894                      7               2.7     Average       Orange\n",
       "963                      7               2.5     Average       Orange\n",
       "1138                     4               1.8        Poor          Red\n",
       "1395                     4               2.0        Poor          Red\n",
       "1549                     4               2.3        Poor          Red\n",
       "4224                     4               1.9        Poor          Red"
      ]
     },
     "execution_count": 59,
     "metadata": {},
     "output_type": "execute_result"
    }
   ],
   "source": [
    "\n",
    "# Exclude rows with 'Rating color' as 'White'\n",
    "data = data[data['Rating color'] != 'White']\n",
    "\n",
    "# Add a new column for review length\n",
    "data['Review Length string'] = data['Rating text'].apply(lambda x: len(str(x)))\n",
    "\n",
    "# Visualize the relationship using a box plot\n",
    "data[[\"Review Length string\" , \"Aggregate rating\",\"Rating text\",'Rating color']].drop_duplicates()\n",
    "\n"
   ]
  },
  {
   "cell_type": "code",
   "execution_count": 76,
   "metadata": {},
   "outputs": [
    {
     "data": {
      "image/png": "[encoded data removed]",
      "text/plain": [
       "<Figure size 1200x700 with 1 Axes>"
      ]
     },
     "metadata": {},
     "output_type": "display_data"
    }
   ],
   "source": [
    "import matplotlib.pyplot as plt\n",
    "\n",
    "rating_color_map = {\n",
    "    \"Excellent\": \"#006400\",\n",
    "    \"Very Good\": \"#008000\",\n",
    "    \"Good\": \"#FFFF00\",\n",
    "    \"Average\": \"#FFA500\",\n",
    "    \"Poor\": \"#FF0000\"\n",
    "}\n",
    "\n",
    "\n",
    "data['Color'] = data['Rating text'].map(rating_color_map)\n",
    "\n",
    "\n",
    "plt.figure(figsize=(12, 7))\n",
    "\n",
    "\n",
    "for rating_text in rating_color_map.keys():  \n",
    "    group = data[data['Rating text'] == rating_text]\n",
    "    plt.scatter(group['Review Length string'], group['Aggregate rating'],\n",
    "                color=rating_color_map[rating_text], label=rating_text, alpha=0.7, s=50)\n",
    "\n",
    "\n",
    "plt.title('Scatter Plot: Review Length vs Aggregate Rating ', fontsize=16)\n",
    "plt.xlabel('Review Length (string length)', fontsize=14)\n",
    "plt.ylabel('Aggregate Rating', fontsize=14)\n",
    "plt.grid(True)\n",
    "\n",
    "\n",
    "plt.legend(title='Rating Color', loc='upper left', fontsize=12, title_fontsize=12)\n",
    "\n",
    "# Show the plot\n",
    "plt.tight_layout()\n",
    "plt.show()\n"
   ]
  },
  {
   "cell_type": "markdown",
   "metadata": {},
   "source": [
    "-Shorter review lengths (e.g., 4, \"Poor\") tend to align with lower aggregate ratings (around 2.0 to 2.5)."
   ]
  },
  {
   "cell_type": "markdown",
   "metadata": {},
   "source": [
    "-Medium review lengths (e.g., 7, \"Average\") align with moderate aggregate ratings (around 3.0 to 3.5)."
   ]
  },
  {
   "cell_type": "markdown",
   "metadata": {},
   "source": [
    "-Longer review lengths (e.g., 9, \"Excellent\") correlate with higher aggregate ratings (4.5 to 5.0).\n"
   ]
  },
  {
   "cell_type": "markdown",
   "metadata": {},
   "source": [
    "The scatter plot shows a clear relationship where longer review texts (\"Excellent,\" \"Very Good\") are associated with higher aggregate ratings, while shorter texts (\"Poor,\" \"Average\") are linked to lower ratings."
   ]
  },
  {
   "cell_type": "markdown",
   "metadata": {},
   "source": [
    "-So there is a relation between reveiew length and aggregate ratting\n",
    "\n"
   ]
  }
 ],
 "metadata": {
  "kernelspec": {
   "display_name": "Python 3",
   "language": "python",
   "name": "python3"
  },
  "language_info": {
   "codemirror_mode": {
    "name": "ipython",
    "version": 3
   },
   "file_extension": ".py",
   "mimetype": "text/x-python",
   "name": "python",
   "nbconvert_exporter": "python",
   "pygments_lexer": "ipython3",
   "version": "3.10.11"
  }
 },
 "nbformat": 4,
 "nbformat_minor": 2
}
